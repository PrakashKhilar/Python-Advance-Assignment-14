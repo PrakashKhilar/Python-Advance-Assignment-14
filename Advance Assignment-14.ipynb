{
 "cells": [
  {
   "cell_type": "markdown",
   "id": "cb471f03",
   "metadata": {},
   "source": [
    "# Advance Assignment-14"
   ]
  },
  {
   "cell_type": "code",
   "execution_count": 1,
   "id": "124eb3c1",
   "metadata": {},
   "outputs": [],
   "source": [
    "# Q1. Is an assignment operator like += only for show? Is it possible that it would lead to faster results at the runtime ?"
   ]
  },
  {
   "cell_type": "code",
   "execution_count": null,
   "id": "771f1ea9",
   "metadata": {},
   "outputs": [],
   "source": [
    "# Ans;\n",
    "\n",
    "A=A+1 evaluates to finding A, adding 1 to it. Then storing the value again in variable A.\n",
    "This expression makes Python to look for memory holder of 'a' twice. But A+=1 simply means value of A is to incremented by 1. \n",
    "\n",
    "As memory address has to be identified once, += leads to faster operation."
   ]
  },
  {
   "cell_type": "code",
   "execution_count": null,
   "id": "f839c2a0",
   "metadata": {},
   "outputs": [],
   "source": [
    "# Q2. What is the smallest no of statements you'd have to write in most programming languages to replace the Python expr a, b = a + b, a ?"
   ]
  },
  {
   "cell_type": "code",
   "execution_count": null,
   "id": "10da85f3",
   "metadata": {},
   "outputs": [],
   "source": [
    "# Ans;\n",
    "\n",
    "Minimum number of lines required to write above code in languages other Python will be 4, two for assigning initial values for variables a and b, and two for reassignment i.e. a=a+b and b=a."
   ]
  },
  {
   "cell_type": "code",
   "execution_count": 2,
   "id": "d1660553",
   "metadata": {},
   "outputs": [],
   "source": [
    "# Q3. In Python, what is the most effective way to set a list of 100 integers to 0?"
   ]
  },
  {
   "cell_type": "code",
   "execution_count": null,
   "id": "2a20cbbb",
   "metadata": {},
   "outputs": [],
   "source": [
    "# Ans;\n",
    "\n",
    "The Most effective way to set a list of 100 integers to 0 in python is by using repition operator(*) or by using list comprehension."
   ]
  },
  {
   "cell_type": "code",
   "execution_count": 3,
   "id": "7267985e",
   "metadata": {},
   "outputs": [
    {
     "name": "stdout",
     "output_type": "stream",
     "text": [
      "[0, 0, 0, 0, 0, 0, 0, 0, 0, 0, 0, 0, 0, 0, 0, 0, 0, 0, 0, 0, 0, 0, 0, 0, 0, 0, 0, 0, 0, 0, 0, 0, 0, 0, 0, 0, 0, 0, 0, 0, 0, 0, 0, 0, 0, 0, 0, 0, 0, 0, 0, 0, 0, 0, 0, 0, 0, 0, 0, 0, 0, 0, 0, 0, 0, 0, 0, 0, 0, 0, 0, 0, 0, 0, 0, 0, 0, 0, 0, 0, 0, 0, 0, 0, 0, 0, 0, 0, 0, 0, 0, 0, 0, 0, 0, 0, 0, 0, 0, 0]\n",
      "[0, 0, 0, 0, 0, 0, 0, 0, 0, 0, 0, 0, 0, 0, 0, 0, 0, 0, 0, 0, 0, 0, 0, 0, 0, 0, 0, 0, 0, 0, 0, 0, 0, 0, 0, 0, 0, 0, 0, 0, 0, 0, 0, 0, 0, 0, 0, 0, 0, 0, 0, 0, 0, 0, 0, 0, 0, 0, 0, 0, 0, 0, 0, 0, 0, 0, 0, 0, 0, 0, 0, 0, 0, 0, 0, 0, 0, 0, 0, 0, 0, 0, 0, 0, 0, 0, 0, 0, 0, 0, 0, 0, 0, 0, 0, 0, 0, 0, 0, 0]\n"
     ]
    }
   ],
   "source": [
    "# Method 1\n",
    "list_zero=[0]*100\n",
    "print(list_zero)\n",
    "# Method 2\n",
    "zero_list = [0 for x in range(100)]\n",
    "print(zero_list)"
   ]
  },
  {
   "cell_type": "code",
   "execution_count": 4,
   "id": "5bc620e6",
   "metadata": {},
   "outputs": [
    {
     "name": "stdout",
     "output_type": "stream",
     "text": [
      "[1, 2, 3, 1, 2, 3, 1, 2, 3, 1, 2, 3, 1, 2, 3, 1, 2, 3, 1, 2, 3, 1, 2, 3, 1, 2, 3, 1, 2, 3, 1, 2, 3, 1, 2, 3, 1, 2, 3, 1, 2, 3, 1, 2, 3, 1, 2, 3, 1, 2, 3, 1, 2, 3, 1, 2, 3, 1, 2, 3, 1, 2, 3, 1, 2, 3, 1, 2, 3, 1, 2, 3, 1, 2, 3, 1, 2, 3, 1, 2, 3, 1, 2, 3, 1, 2, 3, 1, 2, 3, 1, 2, 3, 1, 2, 3, 1, 2, 3]\n"
     ]
    }
   ],
   "source": [
    "my_list = [1,2,3]*33\n",
    "print(my_list)"
   ]
  },
  {
   "cell_type": "code",
   "execution_count": 5,
   "id": "b7d14de3",
   "metadata": {},
   "outputs": [],
   "source": [
    "# Q5. If you're using IDLE to run a Python application, explain how to print a multidimensional list as efficiently?"
   ]
  },
  {
   "cell_type": "code",
   "execution_count": 6,
   "id": "68a66106",
   "metadata": {},
   "outputs": [
    {
     "name": "stdout",
     "output_type": "stream",
     "text": [
      "1 1 2 2 3 3 4 4 5 5 "
     ]
    }
   ],
   "source": [
    "# Ans;\n",
    "\n",
    "my_list = [[1,1],[2,2],[3,3],[4,4],[5,5]] # 2 dimensional List\n",
    "for x in range(len(my_list)):\n",
    "    for y in range(len(my_list[x])):\n",
    "        print(my_list[x][y],end=\" \")"
   ]
  },
  {
   "cell_type": "code",
   "execution_count": 7,
   "id": "8cc081c2",
   "metadata": {},
   "outputs": [],
   "source": [
    "# Q6. Is it possible to use list comprehension with a string? If so, how can you go about doing it?"
   ]
  },
  {
   "cell_type": "code",
   "execution_count": null,
   "id": "8f4d0053",
   "metadata": {},
   "outputs": [],
   "source": [
    "# Ans;\n",
    "\n",
    "List comprehension with string is possible."
   ]
  },
  {
   "cell_type": "code",
   "execution_count": 8,
   "id": "72d33770",
   "metadata": {},
   "outputs": [
    {
     "name": "stdout",
     "output_type": "stream",
     "text": [
      "['i', 'N', 'e', 'u', 'r', 'o', 'n']\n"
     ]
    }
   ],
   "source": [
    "my_list = [ele for ele in 'iNeuron']\n",
    "print(my_list)"
   ]
  },
  {
   "cell_type": "code",
   "execution_count": 9,
   "id": "f99e8b83",
   "metadata": {},
   "outputs": [],
   "source": [
    "# Q7. From the command line, how do you get support with a user-written Python programme? Is this possible from inside IDLE?"
   ]
  },
  {
   "cell_type": "code",
   "execution_count": null,
   "id": "bea8d98d",
   "metadata": {},
   "outputs": [],
   "source": [
    "# Ans;\n",
    "\n",
    "Get support with a user-written Python Programme: Start a command prompt (Windows) or terminal window (Linux/Mac). \n",
    "If the current working directory is the same as the location in which you saved the file, you can simply specify the filename as a command-line argument to the Python interpreter."
   ]
  },
  {
   "cell_type": "code",
   "execution_count": null,
   "id": "164a0d8d",
   "metadata": {},
   "outputs": [],
   "source": [
    "Get support with a User-written Python Program from IDLE: You can also create script files and run them in IDLE.\n",
    "From the Shell window menu, select File → New File. That should open an additional editing window. \n",
    "\n",
    "Type in the code to be executed. From the menu in that window, select File → Save or File → Save As… and save the file to disk. Then select Run → Run Module.\n",
    "The output should appear back in the interpreter"
   ]
  },
  {
   "cell_type": "code",
   "execution_count": 10,
   "id": "229fbf9e",
   "metadata": {},
   "outputs": [],
   "source": [
    "# Q8. Functions are said to be “first-class objects” in Python but not in most other languages, such as C++ or Java. \n",
    "#     What can you do in Python with a function (callable object) that you can't do in C or C++?"
   ]
  },
  {
   "cell_type": "code",
   "execution_count": null,
   "id": "2b9ea863",
   "metadata": {},
   "outputs": [],
   "source": [
    "# Ans;\n",
    "\n",
    "The tasks which can be performed with the functions in python are:\n",
    "\n",
    "A function is an instance of the Object type.\n",
    "You can store the function in a variable.\n",
    "You can pass the function as a parameter to another function.\n",
    "You can return the function from a function.\n",
    "You can store them in data structures such as hash tables, lists,"
   ]
  },
  {
   "cell_type": "code",
   "execution_count": 11,
   "id": "e3bce860",
   "metadata": {},
   "outputs": [],
   "source": [
    "# Q9. How do you distinguish between a wrapper, a wrapped feature, and a decorator?"
   ]
  },
  {
   "cell_type": "code",
   "execution_count": null,
   "id": "3f3dfcec",
   "metadata": {},
   "outputs": [],
   "source": [
    " # Ans;\n",
    "\n",
    "Wrappers Around the functions are known as Decrators."
   ]
  },
  {
   "cell_type": "code",
   "execution_count": 13,
   "id": "eac815bf",
   "metadata": {},
   "outputs": [],
   "source": [
    "# Q10. If a function is a generator function, what does it return?"
   ]
  },
  {
   "cell_type": "code",
   "execution_count": null,
   "id": "bf8d51ac",
   "metadata": {},
   "outputs": [],
   "source": [
    "# Ans : Generator functions are a special kind of function that return a lazy iterator. \n",
    "       These are objects that you can loop over like a list. However, unlike lists, lazy iterators do not store their contents in memory."
   ]
  },
  {
   "cell_type": "code",
   "execution_count": 14,
   "id": "1970b754",
   "metadata": {},
   "outputs": [],
   "source": [
    "# Q11. What is the one improvement that must be made to a function in order for it to become a generator function in the Python language?"
   ]
  },
  {
   "cell_type": "code",
   "execution_count": null,
   "id": "fe14f19d",
   "metadata": {},
   "outputs": [],
   "source": [
    "# Ans;\n",
    "\n",
    "Generator is a written as normal function but uses yield keyword to return values instead of return keyword."
   ]
  },
  {
   "cell_type": "code",
   "execution_count": 15,
   "id": "655bd9ae",
   "metadata": {},
   "outputs": [],
   "source": [
    "# Q12. Identify at least one benefit of generators."
   ]
  },
  {
   "cell_type": "code",
   "execution_count": null,
   "id": "7054021d",
   "metadata": {},
   "outputs": [],
   "source": [
    "# Ans;\n",
    "\n",
    "return statement sends a specified value back to its caller whereas yield statment can produce a sequence of values.\n",
    "We should use generator when we want to iterate over a sequence, but don’t want to store the entire sequence in memory."
   ]
  },
  {
   "cell_type": "code",
   "execution_count": null,
   "id": "e2a320a5",
   "metadata": {},
   "outputs": [],
   "source": []
  }
 ],
 "metadata": {
  "kernelspec": {
   "display_name": "Python 3 (ipykernel)",
   "language": "python",
   "name": "python3"
  },
  "language_info": {
   "codemirror_mode": {
    "name": "ipython",
    "version": 3
   },
   "file_extension": ".py",
   "mimetype": "text/x-python",
   "name": "python",
   "nbconvert_exporter": "python",
   "pygments_lexer": "ipython3",
   "version": "3.9.12"
  }
 },
 "nbformat": 4,
 "nbformat_minor": 5
}
